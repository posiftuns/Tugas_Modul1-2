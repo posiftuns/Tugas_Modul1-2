{
 "cells": [
  {
   "cell_type": "markdown",
   "metadata": {},
   "source": [
    "***\n",
    "<h1 align=\"center\">Tugas Modul 1</h1>\n",
    " \n",
    "***\n",
    "\n"
   ]
  },
  {
   "cell_type": "markdown",
   "metadata": {},
   "source": [
    "Nama&nbsp;&nbsp;: ... <br>\n",
    "NIM&emsp;&nbsp;: ...\n",
    "<br>Kelas&nbsp;&nbsp;&nbsp; : ..."
   ]
  },
  {
   "cell_type": "markdown",
   "metadata": {},
   "source": [
    "Ikuti petunjuk maupun perintah pengerjaan TUGAS tersedia pada Cell **Markdown** .\n",
    "\n",
    "HARAP KERJAKAN MANDIRI DAN BERSUNGUH-SUNGGUH\n",
    "\n",
    "Kerjakan di bawah ↓↓↓"
   ]
  },
  {
   "cell_type": "markdown",
   "metadata": {},
   "source": [
    "## Kasus 1\n",
    "Ah Tong adalah seorang pedagang kelontong. Ia memiliki kebutuhan untuk mengelola inventaris dagangannya. Dia berniat untuk mencatat kebutuhan barang dagangannya ke dalam Python. Barang yang akan Ah Tong masukkan diantaranya :\n",
    "- Beras\n",
    "- Telur\n",
    "- Mie Instan\n",
    "- Rokok\n",
    "- Minyak Goreng\n",
    "- Deterjen\n",
    "\n",
    "Berdasarkan daftar di atas, buatlah `program Python` dengan fitur `input` sehingga dapat memuat dan menampilkan semua barang di atas."
   ]
  },
  {
   "cell_type": "markdown",
   "metadata": {},
   "source": [
    "### Solusi\n",
    "Kerjakan pada cell di bawah sini."
   ]
  },
  {
   "cell_type": "code",
   "execution_count": null,
   "metadata": {},
   "outputs": [],
   "source": [
    "#Output yang diharapkan ↓↓↓\n",
    "#Daftar barang : Beras, Telur, Mie Instan, Rokok, Minyak Goreng, Deterjen\n",
    "\n",
    "#NB : Komentar dalam cell ini dapat dihapus "
   ]
  },
  {
   "cell_type": "markdown",
   "metadata": {},
   "source": [
    "## Kasus 2 (*cont’d*)\n",
    "Setelah melakukan pencatatan dengan program Python, Ah Tong teringat bahwa masih ada barang yang belum ia masukkan kedalam daftar. Ditambah lagi ia ingin menghapus beberapa barang karena persediaanya sudah habis.\n",
    "\n",
    "Daftar barang yang akan ditambahkan :\n",
    "- Tabung Gas\n",
    "- Air Mineral Galon\n",
    "\n",
    "Daftar barang yang akan dihapus :\n",
    "- Deterjen\n",
    "\n",
    "Berdasarkan daftar di atas, Ah Tong ingin memiliki output berupa `list dalam Python`. Buatlah program Python dengan cara `memodifikasi list` sehingga dapat memuat dan menampilkan list dari daftar barang yang terbaru. \n",
    "\n",
    "**HINT : ubahlah daftar barang pada kasus 1 dalam bentuk list terlebih dahulu, gunakan list tersebut untuk melakukan modifikasi**"
   ]
  },
  {
   "cell_type": "markdown",
   "metadata": {},
   "source": [
    "### Solusi\n",
    "Kerjakan pada cell di bawah sini."
   ]
  },
  {
   "cell_type": "code",
   "execution_count": null,
   "metadata": {},
   "outputs": [],
   "source": [
    "#Output yang diharapkan ↓↓↓\n",
    "#List Barang :  ['Beras', 'Telur', 'Mie Instan', 'Rokok', 'Minyak Goreng', 'Tabung Gas', 'Air Mineral Galon']\n",
    "\n",
    "#NB : Komentar dalam cell ini dapat dihapus "
   ]
  },
  {
   "cell_type": "markdown",
   "metadata": {},
   "source": [
    "***\n",
    "<h1 align=\"center\">Tugas Modul 2</h1>\n",
    " \n",
    "***\n"
   ]
  },
  {
   "cell_type": "markdown",
   "metadata": {},
   "source": [
    "Nama&nbsp;&nbsp;: ... <br>\n",
    "NIM&emsp;&nbsp;: ...\n",
    "<br>Kelas&nbsp;&nbsp;&nbsp; : ..."
   ]
  },
  {
   "cell_type": "markdown",
   "metadata": {},
   "source": [
    "Ikuti petunjuk maupun perintah pengerjaan TUGAS tersedia pada Cell **Markdown** .\n",
    "\n",
    "HARAP KERJAKAN MANDIRI DAN BERSUNGUH-SUNGGUH\n",
    "\n",
    "Kerjakan di bawah ↓↓↓"
   ]
  },
  {
   "cell_type": "markdown",
   "metadata": {},
   "source": [
    "## SOAL 1"
   ]
  },
  {
   "cell_type": "markdown",
   "metadata": {},
   "source": [
    "### Kalkulator Sederhana\n",
    "Buatlah program di bawah ini , dimana terdapat input yang meminta pengguna untuk memasukkan 2 bilangan dan menghasilkan ouput berupa hasil penjumlahan, pengurangan, perkalian, dan pembagian. Program tersebut kemudian harus menampilkan hasil penjumlahan, pengurangan, perkalian, dan pembagian sekaligus sesuai dengan bilangan yang telah dimasukkan pengguna. \n"
   ]
  },
  {
   "cell_type": "code",
   "execution_count": null,
   "metadata": {},
   "outputs": [],
   "source": [
    "# Kerjakan langsung disini\n"
   ]
  },
  {
   "cell_type": "markdown",
   "metadata": {},
   "source": [
    "## SOAL 2"
   ]
  },
  {
   "cell_type": "markdown",
   "metadata": {},
   "source": [
    "### PENGHITUNG VOLUME BOLA & TABUNG\n",
    "Buatlah program di bawah ini yang meminta pengguna untuk memasukkan jari-jari dan menghasilkan ouput berupa volume dari bola atau tabung. Program tersebut kemudian harus menghitung dan menampilkan volume bola atau tabung sesuai dengan jari-jari yang dimasukkan pengguna. \n",
    "\n",
    "Gunakan operator matematika yang tepat untuk mengerjakan soal di bawah ini.\n",
    "\n",
    "Notes: \n",
    "- Untuk NIM berakhiran ganjil menghitung volume bola\n",
    "- Untuk NIM berakhiran genap menghitung volume tabung dengan t = 80 cm"
   ]
  },
  {
   "cell_type": "code",
   "execution_count": null,
   "metadata": {},
   "outputs": [],
   "source": [
    "# Kerjakan langsung disini"
   ]
  },
  {
   "cell_type": "markdown",
   "metadata": {},
   "source": [
    "## SOAL 3"
   ]
  },
  {
   "cell_type": "markdown",
   "metadata": {},
   "source": [
    "### KONVERSI SUHU"
   ]
  },
  {
   "cell_type": "markdown",
   "metadata": {},
   "source": [
    "Buatlah program di bawah ini yang meminta pengguna untuk memasukkan suhu dalam derajat Celsius atau Farenheit. Program tersebut kemudian harus mengonversi suhu tersebut ke dalam Celcius, Fahrenheit, dan Kelvin, lalu menampilkannya kepada pengguna. \n",
    "\n",
    "Gunakan rumus konversi suhu yang benar dan operator untuk melakukan perhitungan.\n",
    "\n",
    "Notes: \n",
    "- Untuk NIM berakhiran ganjil konversi suhu dari Celcius\n",
    "- Untuk NIM berakhiran genap konversi suhu dari Farenheit"
   ]
  },
  {
   "cell_type": "code",
   "execution_count": null,
   "metadata": {},
   "outputs": [],
   "source": [
    "# Kerjakan langsung disini"
   ]
  },
  {
   "cell_type": "markdown",
   "metadata": {},
   "source": [
    "***\n",
    "<h1 align=\"center\">SELAMAT MENGERJAKAN</h1> \n",
    "\n",
    "***"
   ]
  }
 ],
 "metadata": {
  "kernelspec": {
   "display_name": "Python 3",
   "language": "python",
   "name": "python3"
  },
  "language_info": {
   "codemirror_mode": {
    "name": "ipython",
    "version": 3
   },
   "file_extension": ".py",
   "mimetype": "text/x-python",
   "name": "python",
   "nbconvert_exporter": "python",
   "pygments_lexer": "ipython3",
   "version": "3.10.2"
  }
 },
 "nbformat": 4,
 "nbformat_minor": 2
}
